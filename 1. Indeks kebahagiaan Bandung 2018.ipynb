{
 "cells": [
  {
   "cell_type": "markdown",
   "metadata": {},
   "source": [
    "# Indeks Kebahagiaan Warga Kota Bandung tahun 2018\n",
    "Pada kesempatan kali ini, saya mencoba mengolah data indeks kebahagiaan warga Kota Bandung di tahun 2018. Setelah mengolah, saya akan mencoba membandingkan indeks kebahagiaan tahun ini dengan tahun lalu. Ini saya lakukan untuk melihat apakah ada kenaikan atau penurunan 'kebahagiaan' warga Kota Bandung. Jika Anda tertarik untuk mengolah data ini, Anda bisa mengunjungi [**link ini**](http://data.bandung.go.id/dataset/indeks-kebahagiaan-kota-bandung-berdasarkan-10-aspek-kehidupan)"
   ]
  },
  {
   "cell_type": "markdown",
   "metadata": {},
   "source": [
    "## Kebahagiaan tahun 2018"
   ]
  },
  {
   "cell_type": "code",
   "execution_count": 1,
   "metadata": {},
   "outputs": [],
   "source": [
    "import pandas as pd"
   ]
  },
  {
   "cell_type": "code",
   "execution_count": 2,
   "metadata": {},
   "outputs": [
    {
     "data": {
      "text/html": [
       "<div>\n",
       "<style scoped>\n",
       "    .dataframe tbody tr th:only-of-type {\n",
       "        vertical-align: middle;\n",
       "    }\n",
       "\n",
       "    .dataframe tbody tr th {\n",
       "        vertical-align: top;\n",
       "    }\n",
       "\n",
       "    .dataframe thead th {\n",
       "        text-align: right;\n",
       "    }\n",
       "</style>\n",
       "<table border=\"1\" class=\"dataframe\">\n",
       "  <thead>\n",
       "    <tr style=\"text-align: right;\">\n",
       "      <th></th>\n",
       "      <th>Tahun</th>\n",
       "      <th>Aspek</th>\n",
       "      <th>Indeks</th>\n",
       "    </tr>\n",
       "  </thead>\n",
       "  <tbody>\n",
       "    <tr>\n",
       "      <th>0</th>\n",
       "      <td>2018</td>\n",
       "      <td>Kesehatan</td>\n",
       "      <td>75.17</td>\n",
       "    </tr>\n",
       "    <tr>\n",
       "      <th>1</th>\n",
       "      <td>2018</td>\n",
       "      <td>Pendidikan</td>\n",
       "      <td>70.71</td>\n",
       "    </tr>\n",
       "    <tr>\n",
       "      <th>2</th>\n",
       "      <td>2018</td>\n",
       "      <td>Pekerjaan</td>\n",
       "      <td>73.23</td>\n",
       "    </tr>\n",
       "    <tr>\n",
       "      <th>3</th>\n",
       "      <td>2018</td>\n",
       "      <td>Pendapatan Rumah Tangga</td>\n",
       "      <td>70.50</td>\n",
       "    </tr>\n",
       "    <tr>\n",
       "      <th>4</th>\n",
       "      <td>2018</td>\n",
       "      <td>Keharmonisan Keluarga</td>\n",
       "      <td>77.95</td>\n",
       "    </tr>\n",
       "    <tr>\n",
       "      <th>5</th>\n",
       "      <td>2018</td>\n",
       "      <td>Ketersediaan Waktu Luang</td>\n",
       "      <td>73.58</td>\n",
       "    </tr>\n",
       "    <tr>\n",
       "      <th>6</th>\n",
       "      <td>2018</td>\n",
       "      <td>Hubungan Sosial</td>\n",
       "      <td>74.35</td>\n",
       "    </tr>\n",
       "    <tr>\n",
       "      <th>7</th>\n",
       "      <td>2018</td>\n",
       "      <td>Kondisi Rumah dan Aset</td>\n",
       "      <td>73.33</td>\n",
       "    </tr>\n",
       "    <tr>\n",
       "      <th>8</th>\n",
       "      <td>2018</td>\n",
       "      <td>Keadaan Lingkungan</td>\n",
       "      <td>77.68</td>\n",
       "    </tr>\n",
       "    <tr>\n",
       "      <th>9</th>\n",
       "      <td>2018</td>\n",
       "      <td>Kondisi Keamanan</td>\n",
       "      <td>77.36</td>\n",
       "    </tr>\n",
       "  </tbody>\n",
       "</table>\n",
       "</div>"
      ],
      "text/plain": [
       "   Tahun                     Aspek  Indeks\n",
       "0   2018                 Kesehatan   75.17\n",
       "1   2018                Pendidikan   70.71\n",
       "2   2018                 Pekerjaan   73.23\n",
       "3   2018   Pendapatan Rumah Tangga   70.50\n",
       "4   2018     Keharmonisan Keluarga   77.95\n",
       "5   2018  Ketersediaan Waktu Luang   73.58\n",
       "6   2018           Hubungan Sosial   74.35\n",
       "7   2018    Kondisi Rumah dan Aset   73.33\n",
       "8   2018        Keadaan Lingkungan   77.68\n",
       "9   2018          Kondisi Keamanan   77.36"
      ]
     },
     "execution_count": 2,
     "metadata": {},
     "output_type": "execute_result"
    }
   ],
   "source": [
    "df=pd.read_csv(\"Downloads\\data-indeks-kebahagiaan-berdasarkan-10-aspek-2018.csv\")\n",
    "df"
   ]
  },
  {
   "cell_type": "code",
   "execution_count": 3,
   "metadata": {},
   "outputs": [
    {
     "data": {
      "text/plain": [
       "count    10.000000\n",
       "mean     74.386000\n",
       "std       2.681795\n",
       "min      70.500000\n",
       "25%      73.255000\n",
       "50%      73.965000\n",
       "75%      76.812500\n",
       "max      77.950000\n",
       "Name: Indeks, dtype: float64"
      ]
     },
     "execution_count": 3,
     "metadata": {},
     "output_type": "execute_result"
    }
   ],
   "source": [
    "df[\"Indeks\"].describe()"
   ]
  },
  {
   "cell_type": "code",
   "execution_count": 4,
   "metadata": {},
   "outputs": [
    {
     "data": {
      "text/html": [
       "<div>\n",
       "<style scoped>\n",
       "    .dataframe tbody tr th:only-of-type {\n",
       "        vertical-align: middle;\n",
       "    }\n",
       "\n",
       "    .dataframe tbody tr th {\n",
       "        vertical-align: top;\n",
       "    }\n",
       "\n",
       "    .dataframe thead th {\n",
       "        text-align: right;\n",
       "    }\n",
       "</style>\n",
       "<table border=\"1\" class=\"dataframe\">\n",
       "  <thead>\n",
       "    <tr style=\"text-align: right;\">\n",
       "      <th></th>\n",
       "      <th>Tahun</th>\n",
       "      <th>Aspek</th>\n",
       "      <th>Indeks</th>\n",
       "    </tr>\n",
       "  </thead>\n",
       "  <tbody>\n",
       "    <tr>\n",
       "      <th>3</th>\n",
       "      <td>2018</td>\n",
       "      <td>Pendapatan Rumah Tangga</td>\n",
       "      <td>70.5</td>\n",
       "    </tr>\n",
       "  </tbody>\n",
       "</table>\n",
       "</div>"
      ],
      "text/plain": [
       "   Tahun                    Aspek  Indeks\n",
       "3   2018  Pendapatan Rumah Tangga    70.5"
      ]
     },
     "execution_count": 4,
     "metadata": {},
     "output_type": "execute_result"
    }
   ],
   "source": [
    "#Aspek dengan nilai terendah\n",
    "df.loc[df.Indeks==70.5]"
   ]
  },
  {
   "cell_type": "code",
   "execution_count": 5,
   "metadata": {},
   "outputs": [
    {
     "data": {
      "text/html": [
       "<div>\n",
       "<style scoped>\n",
       "    .dataframe tbody tr th:only-of-type {\n",
       "        vertical-align: middle;\n",
       "    }\n",
       "\n",
       "    .dataframe tbody tr th {\n",
       "        vertical-align: top;\n",
       "    }\n",
       "\n",
       "    .dataframe thead th {\n",
       "        text-align: right;\n",
       "    }\n",
       "</style>\n",
       "<table border=\"1\" class=\"dataframe\">\n",
       "  <thead>\n",
       "    <tr style=\"text-align: right;\">\n",
       "      <th></th>\n",
       "      <th>Tahun</th>\n",
       "      <th>Aspek</th>\n",
       "      <th>Indeks</th>\n",
       "    </tr>\n",
       "  </thead>\n",
       "  <tbody>\n",
       "    <tr>\n",
       "      <th>4</th>\n",
       "      <td>2018</td>\n",
       "      <td>Keharmonisan Keluarga</td>\n",
       "      <td>77.95</td>\n",
       "    </tr>\n",
       "  </tbody>\n",
       "</table>\n",
       "</div>"
      ],
      "text/plain": [
       "   Tahun                  Aspek  Indeks\n",
       "4   2018  Keharmonisan Keluarga   77.95"
      ]
     },
     "execution_count": 5,
     "metadata": {},
     "output_type": "execute_result"
    }
   ],
   "source": [
    "#Aspek dengan nilai tertinggi\n",
    "df.loc[df.Indeks==77.95]"
   ]
  },
  {
   "cell_type": "markdown",
   "metadata": {},
   "source": [
    "Dapat kita lihat, dataset kita memiliki tiga kolom yakni tahun, aspek dan indeks. Kolom tahun semuanya sama bernilai 2018, berarti tahun ini. kolom aspek berisi 10 aspek indeks kebahagiaan Kota Bandung. Kolom Indeks berisikan nilai dari masing masing aspek kebahagiaan. Di data tidak disebutkan berapa rentangnya, menurut saya memiliki rentang 0-100.\n",
    "\n",
    "Setelah diolah diperoleh bahwa rata rata indeks kebahagiaan kota bandung ialah 74.386. Nilai terendahnya ialah 70.5 pada aspek Pendapatan Rumah Tangga. Sementara nilai tertingginya ialah 77.95 pada aspek Keharmonisan Keluarga."
   ]
  },
  {
   "cell_type": "markdown",
   "metadata": {},
   "source": [
    "## Dibanding 2017"
   ]
  },
  {
   "cell_type": "code",
   "execution_count": 6,
   "metadata": {},
   "outputs": [
    {
     "data": {
      "text/html": [
       "<div>\n",
       "<style scoped>\n",
       "    .dataframe tbody tr th:only-of-type {\n",
       "        vertical-align: middle;\n",
       "    }\n",
       "\n",
       "    .dataframe tbody tr th {\n",
       "        vertical-align: top;\n",
       "    }\n",
       "\n",
       "    .dataframe thead th {\n",
       "        text-align: right;\n",
       "    }\n",
       "</style>\n",
       "<table border=\"1\" class=\"dataframe\">\n",
       "  <thead>\n",
       "    <tr style=\"text-align: right;\">\n",
       "      <th></th>\n",
       "      <th>Tahun</th>\n",
       "      <th>Aspek</th>\n",
       "      <th>Indeks</th>\n",
       "    </tr>\n",
       "  </thead>\n",
       "  <tbody>\n",
       "    <tr>\n",
       "      <th>0</th>\n",
       "      <td>2017</td>\n",
       "      <td>Kesehatan</td>\n",
       "      <td>74.66</td>\n",
       "    </tr>\n",
       "    <tr>\n",
       "      <th>1</th>\n",
       "      <td>2017</td>\n",
       "      <td>Pendidikan</td>\n",
       "      <td>67.56</td>\n",
       "    </tr>\n",
       "    <tr>\n",
       "      <th>2</th>\n",
       "      <td>2017</td>\n",
       "      <td>Pekerjaan</td>\n",
       "      <td>71.39</td>\n",
       "    </tr>\n",
       "    <tr>\n",
       "      <th>3</th>\n",
       "      <td>2017</td>\n",
       "      <td>Pendapatan Rumah Tangga</td>\n",
       "      <td>68.31</td>\n",
       "    </tr>\n",
       "    <tr>\n",
       "      <th>4</th>\n",
       "      <td>2017</td>\n",
       "      <td>Keharmonisan Keluarga</td>\n",
       "      <td>78.82</td>\n",
       "    </tr>\n",
       "    <tr>\n",
       "      <th>5</th>\n",
       "      <td>2017</td>\n",
       "      <td>Ketersediaan Waktu Luang</td>\n",
       "      <td>73.48</td>\n",
       "    </tr>\n",
       "    <tr>\n",
       "      <th>6</th>\n",
       "      <td>2017</td>\n",
       "      <td>Hubungan Sosial</td>\n",
       "      <td>75.22</td>\n",
       "    </tr>\n",
       "    <tr>\n",
       "      <th>7</th>\n",
       "      <td>2017</td>\n",
       "      <td>Kondisi Rumah dan Aset</td>\n",
       "      <td>70.93</td>\n",
       "    </tr>\n",
       "    <tr>\n",
       "      <th>8</th>\n",
       "      <td>2017</td>\n",
       "      <td>Keadaan Lingkungan</td>\n",
       "      <td>77.15</td>\n",
       "    </tr>\n",
       "    <tr>\n",
       "      <th>9</th>\n",
       "      <td>2017</td>\n",
       "      <td>Kondisi Keamanan</td>\n",
       "      <td>77.23</td>\n",
       "    </tr>\n",
       "  </tbody>\n",
       "</table>\n",
       "</div>"
      ],
      "text/plain": [
       "   Tahun                     Aspek  Indeks\n",
       "0   2017                 Kesehatan   74.66\n",
       "1   2017                Pendidikan   67.56\n",
       "2   2017                 Pekerjaan   71.39\n",
       "3   2017   Pendapatan Rumah Tangga   68.31\n",
       "4   2017     Keharmonisan Keluarga   78.82\n",
       "5   2017  Ketersediaan Waktu Luang   73.48\n",
       "6   2017           Hubungan Sosial   75.22\n",
       "7   2017    Kondisi Rumah dan Aset   70.93\n",
       "8   2017        Keadaan Lingkungan   77.15\n",
       "9   2017          Kondisi Keamanan   77.23"
      ]
     },
     "execution_count": 6,
     "metadata": {},
     "output_type": "execute_result"
    }
   ],
   "source": [
    "df2=pd.read_csv(\"Downloads\\data-indeks-kebahagiaan-berdasarkan-10-aspek-2017.csv\")\n",
    "df2"
   ]
  },
  {
   "cell_type": "code",
   "execution_count": 7,
   "metadata": {},
   "outputs": [
    {
     "data": {
      "text/plain": [
       "count    10.000000\n",
       "mean     73.475000\n",
       "std       3.845815\n",
       "min      67.560000\n",
       "25%      71.045000\n",
       "50%      74.070000\n",
       "75%      76.667500\n",
       "max      78.820000\n",
       "Name: Indeks, dtype: float64"
      ]
     },
     "execution_count": 7,
     "metadata": {},
     "output_type": "execute_result"
    }
   ],
   "source": [
    "df2[\"Indeks\"].describe()"
   ]
  },
  {
   "cell_type": "code",
   "execution_count": 8,
   "metadata": {},
   "outputs": [
    {
     "data": {
      "text/html": [
       "<div>\n",
       "<style scoped>\n",
       "    .dataframe tbody tr th:only-of-type {\n",
       "        vertical-align: middle;\n",
       "    }\n",
       "\n",
       "    .dataframe tbody tr th {\n",
       "        vertical-align: top;\n",
       "    }\n",
       "\n",
       "    .dataframe thead th {\n",
       "        text-align: right;\n",
       "    }\n",
       "</style>\n",
       "<table border=\"1\" class=\"dataframe\">\n",
       "  <thead>\n",
       "    <tr style=\"text-align: right;\">\n",
       "      <th></th>\n",
       "      <th>Tahun</th>\n",
       "      <th>Aspek</th>\n",
       "      <th>Indeks</th>\n",
       "    </tr>\n",
       "  </thead>\n",
       "  <tbody>\n",
       "    <tr>\n",
       "      <th>1</th>\n",
       "      <td>2017</td>\n",
       "      <td>Pendidikan</td>\n",
       "      <td>67.56</td>\n",
       "    </tr>\n",
       "  </tbody>\n",
       "</table>\n",
       "</div>"
      ],
      "text/plain": [
       "   Tahun       Aspek  Indeks\n",
       "1   2017  Pendidikan   67.56"
      ]
     },
     "execution_count": 8,
     "metadata": {},
     "output_type": "execute_result"
    }
   ],
   "source": [
    "#Aspek dengan nilai terendah\n",
    "df2.loc[df2.Indeks==67.56]"
   ]
  },
  {
   "cell_type": "code",
   "execution_count": 9,
   "metadata": {},
   "outputs": [
    {
     "data": {
      "text/html": [
       "<div>\n",
       "<style scoped>\n",
       "    .dataframe tbody tr th:only-of-type {\n",
       "        vertical-align: middle;\n",
       "    }\n",
       "\n",
       "    .dataframe tbody tr th {\n",
       "        vertical-align: top;\n",
       "    }\n",
       "\n",
       "    .dataframe thead th {\n",
       "        text-align: right;\n",
       "    }\n",
       "</style>\n",
       "<table border=\"1\" class=\"dataframe\">\n",
       "  <thead>\n",
       "    <tr style=\"text-align: right;\">\n",
       "      <th></th>\n",
       "      <th>Tahun</th>\n",
       "      <th>Aspek</th>\n",
       "      <th>Indeks</th>\n",
       "    </tr>\n",
       "  </thead>\n",
       "  <tbody>\n",
       "    <tr>\n",
       "      <th>4</th>\n",
       "      <td>2017</td>\n",
       "      <td>Keharmonisan Keluarga</td>\n",
       "      <td>78.82</td>\n",
       "    </tr>\n",
       "  </tbody>\n",
       "</table>\n",
       "</div>"
      ],
      "text/plain": [
       "   Tahun                  Aspek  Indeks\n",
       "4   2017  Keharmonisan Keluarga   78.82"
      ]
     },
     "execution_count": 9,
     "metadata": {},
     "output_type": "execute_result"
    }
   ],
   "source": [
    "#Aspek dengan nilai tertinggi\n",
    "df2.loc[df2.Indeks==78.82]"
   ]
  },
  {
   "cell_type": "code",
   "execution_count": 10,
   "metadata": {},
   "outputs": [
    {
     "data": {
      "text/plain": [
       "0.9109999999999872"
      ]
     },
     "execution_count": 10,
     "metadata": {},
     "output_type": "execute_result"
    }
   ],
   "source": [
    "#selisih indeks kebahagiaan tahun 2018 dengan tahun 2017\n",
    "df.Indeks.mean()-df2.Indeks.mean()"
   ]
  },
  {
   "cell_type": "code",
   "execution_count": 11,
   "metadata": {},
   "outputs": [
    {
     "data": {
      "text/html": [
       "<div>\n",
       "<style scoped>\n",
       "    .dataframe tbody tr th:only-of-type {\n",
       "        vertical-align: middle;\n",
       "    }\n",
       "\n",
       "    .dataframe tbody tr th {\n",
       "        vertical-align: top;\n",
       "    }\n",
       "\n",
       "    .dataframe thead th {\n",
       "        text-align: right;\n",
       "    }\n",
       "</style>\n",
       "<table border=\"1\" class=\"dataframe\">\n",
       "  <thead>\n",
       "    <tr style=\"text-align: right;\">\n",
       "      <th></th>\n",
       "      <th>Tahun</th>\n",
       "      <th>Aspek</th>\n",
       "      <th>Indeks</th>\n",
       "      <th>Selisih</th>\n",
       "    </tr>\n",
       "  </thead>\n",
       "  <tbody>\n",
       "    <tr>\n",
       "      <th>0</th>\n",
       "      <td>2018</td>\n",
       "      <td>Kesehatan</td>\n",
       "      <td>75.17</td>\n",
       "      <td>0.51</td>\n",
       "    </tr>\n",
       "    <tr>\n",
       "      <th>1</th>\n",
       "      <td>2018</td>\n",
       "      <td>Pendidikan</td>\n",
       "      <td>70.71</td>\n",
       "      <td>3.15</td>\n",
       "    </tr>\n",
       "    <tr>\n",
       "      <th>2</th>\n",
       "      <td>2018</td>\n",
       "      <td>Pekerjaan</td>\n",
       "      <td>73.23</td>\n",
       "      <td>1.84</td>\n",
       "    </tr>\n",
       "    <tr>\n",
       "      <th>3</th>\n",
       "      <td>2018</td>\n",
       "      <td>Pendapatan Rumah Tangga</td>\n",
       "      <td>70.50</td>\n",
       "      <td>2.19</td>\n",
       "    </tr>\n",
       "    <tr>\n",
       "      <th>4</th>\n",
       "      <td>2018</td>\n",
       "      <td>Keharmonisan Keluarga</td>\n",
       "      <td>77.95</td>\n",
       "      <td>-0.87</td>\n",
       "    </tr>\n",
       "    <tr>\n",
       "      <th>5</th>\n",
       "      <td>2018</td>\n",
       "      <td>Ketersediaan Waktu Luang</td>\n",
       "      <td>73.58</td>\n",
       "      <td>0.10</td>\n",
       "    </tr>\n",
       "    <tr>\n",
       "      <th>6</th>\n",
       "      <td>2018</td>\n",
       "      <td>Hubungan Sosial</td>\n",
       "      <td>74.35</td>\n",
       "      <td>-0.87</td>\n",
       "    </tr>\n",
       "    <tr>\n",
       "      <th>7</th>\n",
       "      <td>2018</td>\n",
       "      <td>Kondisi Rumah dan Aset</td>\n",
       "      <td>73.33</td>\n",
       "      <td>2.40</td>\n",
       "    </tr>\n",
       "    <tr>\n",
       "      <th>8</th>\n",
       "      <td>2018</td>\n",
       "      <td>Keadaan Lingkungan</td>\n",
       "      <td>77.68</td>\n",
       "      <td>0.53</td>\n",
       "    </tr>\n",
       "    <tr>\n",
       "      <th>9</th>\n",
       "      <td>2018</td>\n",
       "      <td>Kondisi Keamanan</td>\n",
       "      <td>77.36</td>\n",
       "      <td>0.13</td>\n",
       "    </tr>\n",
       "  </tbody>\n",
       "</table>\n",
       "</div>"
      ],
      "text/plain": [
       "   Tahun                     Aspek  Indeks  Selisih\n",
       "0   2018                 Kesehatan   75.17     0.51\n",
       "1   2018                Pendidikan   70.71     3.15\n",
       "2   2018                 Pekerjaan   73.23     1.84\n",
       "3   2018   Pendapatan Rumah Tangga   70.50     2.19\n",
       "4   2018     Keharmonisan Keluarga   77.95    -0.87\n",
       "5   2018  Ketersediaan Waktu Luang   73.58     0.10\n",
       "6   2018           Hubungan Sosial   74.35    -0.87\n",
       "7   2018    Kondisi Rumah dan Aset   73.33     2.40\n",
       "8   2018        Keadaan Lingkungan   77.68     0.53\n",
       "9   2018          Kondisi Keamanan   77.36     0.13"
      ]
     },
     "execution_count": 11,
     "metadata": {},
     "output_type": "execute_result"
    }
   ],
   "source": [
    "df[\"Selisih\"] = df[\"Indeks\"]-df2[\"Indeks\"]\n",
    "df"
   ]
  },
  {
   "cell_type": "code",
   "execution_count": 12,
   "metadata": {},
   "outputs": [
    {
     "data": {
      "text/html": [
       "<div>\n",
       "<style scoped>\n",
       "    .dataframe tbody tr th:only-of-type {\n",
       "        vertical-align: middle;\n",
       "    }\n",
       "\n",
       "    .dataframe tbody tr th {\n",
       "        vertical-align: top;\n",
       "    }\n",
       "\n",
       "    .dataframe thead th {\n",
       "        text-align: right;\n",
       "    }\n",
       "</style>\n",
       "<table border=\"1\" class=\"dataframe\">\n",
       "  <thead>\n",
       "    <tr style=\"text-align: right;\">\n",
       "      <th></th>\n",
       "      <th>Tahun</th>\n",
       "      <th>Aspek</th>\n",
       "      <th>Indeks</th>\n",
       "      <th>Selisih</th>\n",
       "    </tr>\n",
       "  </thead>\n",
       "  <tbody>\n",
       "    <tr>\n",
       "      <th>1</th>\n",
       "      <td>2018</td>\n",
       "      <td>Pendidikan</td>\n",
       "      <td>70.71</td>\n",
       "      <td>3.15</td>\n",
       "    </tr>\n",
       "    <tr>\n",
       "      <th>7</th>\n",
       "      <td>2018</td>\n",
       "      <td>Kondisi Rumah dan Aset</td>\n",
       "      <td>73.33</td>\n",
       "      <td>2.40</td>\n",
       "    </tr>\n",
       "    <tr>\n",
       "      <th>3</th>\n",
       "      <td>2018</td>\n",
       "      <td>Pendapatan Rumah Tangga</td>\n",
       "      <td>70.50</td>\n",
       "      <td>2.19</td>\n",
       "    </tr>\n",
       "    <tr>\n",
       "      <th>2</th>\n",
       "      <td>2018</td>\n",
       "      <td>Pekerjaan</td>\n",
       "      <td>73.23</td>\n",
       "      <td>1.84</td>\n",
       "    </tr>\n",
       "    <tr>\n",
       "      <th>8</th>\n",
       "      <td>2018</td>\n",
       "      <td>Keadaan Lingkungan</td>\n",
       "      <td>77.68</td>\n",
       "      <td>0.53</td>\n",
       "    </tr>\n",
       "    <tr>\n",
       "      <th>0</th>\n",
       "      <td>2018</td>\n",
       "      <td>Kesehatan</td>\n",
       "      <td>75.17</td>\n",
       "      <td>0.51</td>\n",
       "    </tr>\n",
       "    <tr>\n",
       "      <th>9</th>\n",
       "      <td>2018</td>\n",
       "      <td>Kondisi Keamanan</td>\n",
       "      <td>77.36</td>\n",
       "      <td>0.13</td>\n",
       "    </tr>\n",
       "    <tr>\n",
       "      <th>5</th>\n",
       "      <td>2018</td>\n",
       "      <td>Ketersediaan Waktu Luang</td>\n",
       "      <td>73.58</td>\n",
       "      <td>0.10</td>\n",
       "    </tr>\n",
       "  </tbody>\n",
       "</table>\n",
       "</div>"
      ],
      "text/plain": [
       "   Tahun                     Aspek  Indeks  Selisih\n",
       "1   2018                Pendidikan   70.71     3.15\n",
       "7   2018    Kondisi Rumah dan Aset   73.33     2.40\n",
       "3   2018   Pendapatan Rumah Tangga   70.50     2.19\n",
       "2   2018                 Pekerjaan   73.23     1.84\n",
       "8   2018        Keadaan Lingkungan   77.68     0.53\n",
       "0   2018                 Kesehatan   75.17     0.51\n",
       "9   2018          Kondisi Keamanan   77.36     0.13\n",
       "5   2018  Ketersediaan Waktu Luang   73.58     0.10"
      ]
     },
     "execution_count": 12,
     "metadata": {},
     "output_type": "execute_result"
    }
   ],
   "source": [
    "#Aspek yang mengalami kenaikan\n",
    "df.loc[df.Selisih>=0].sort_values(\"Selisih\", ascending=False)"
   ]
  },
  {
   "cell_type": "code",
   "execution_count": 13,
   "metadata": {},
   "outputs": [
    {
     "data": {
      "text/html": [
       "<div>\n",
       "<style scoped>\n",
       "    .dataframe tbody tr th:only-of-type {\n",
       "        vertical-align: middle;\n",
       "    }\n",
       "\n",
       "    .dataframe tbody tr th {\n",
       "        vertical-align: top;\n",
       "    }\n",
       "\n",
       "    .dataframe thead th {\n",
       "        text-align: right;\n",
       "    }\n",
       "</style>\n",
       "<table border=\"1\" class=\"dataframe\">\n",
       "  <thead>\n",
       "    <tr style=\"text-align: right;\">\n",
       "      <th></th>\n",
       "      <th>Tahun</th>\n",
       "      <th>Aspek</th>\n",
       "      <th>Indeks</th>\n",
       "      <th>Selisih</th>\n",
       "    </tr>\n",
       "  </thead>\n",
       "  <tbody>\n",
       "    <tr>\n",
       "      <th>4</th>\n",
       "      <td>2018</td>\n",
       "      <td>Keharmonisan Keluarga</td>\n",
       "      <td>77.95</td>\n",
       "      <td>-0.87</td>\n",
       "    </tr>\n",
       "    <tr>\n",
       "      <th>6</th>\n",
       "      <td>2018</td>\n",
       "      <td>Hubungan Sosial</td>\n",
       "      <td>74.35</td>\n",
       "      <td>-0.87</td>\n",
       "    </tr>\n",
       "  </tbody>\n",
       "</table>\n",
       "</div>"
      ],
      "text/plain": [
       "   Tahun                  Aspek  Indeks  Selisih\n",
       "4   2018  Keharmonisan Keluarga   77.95    -0.87\n",
       "6   2018        Hubungan Sosial   74.35    -0.87"
      ]
     },
     "execution_count": 13,
     "metadata": {},
     "output_type": "execute_result"
    }
   ],
   "source": [
    "#Aspek yang mengalami penurunan\n",
    "df.loc[df.Selisih<=0].sort_values(\"Selisih\", ascending=False)"
   ]
  },
  {
   "cell_type": "markdown",
   "metadata": {},
   "source": [
    "Pada tahun 2017 rata rata indeks kebahagiaan Kota Bandung ialah 73.475. Nilai terendahnya ialah 67.56 pada aspek Pendidikan. Sementara nilai tertingginya ialah 78.82 pada aspek Keharmonisan Keluarga.\n",
    "\n",
    "Apabila di cermati lebih lanjut, 'kebahagiaan' mengalami kenaikan pada tahun 2018 sebesar 0.911 point. Keharmonisan Keluarga merupakan aspek dengan indeks tertinggi di dua tahun ini meskipun mengalami penurunan 0.87 point. Aspek lain yang juga mengalami penurunan ialah Hubungan Sosial sebanyak 0.87 point. Sementara itu, aspek Pendidikan merupakan aspek terendah di tahun 2017, namun mengalami kenaikan yang cukup signifikan di 2018. Kenaikan aspek ini sebanyak 3.15 point. Aspek lain yang mengalami kenaikan ialah Kondisi Rumah dan Aset (2.40), Pendapatan Rumah Tangga (2.19), Pekerjaan (1.84), Keadaan Lingkungan (0.53), Kesehatan (0.51), Kondisi Keamanan (0.13) dan Ketersediaan Waktu Luang (0.10)."
   ]
  },
  {
   "cell_type": "markdown",
   "metadata": {},
   "source": [
    "## Visualisasi Sederhana"
   ]
  },
  {
   "cell_type": "code",
   "execution_count": 16,
   "metadata": {},
   "outputs": [
    {
     "data": {
      "text/plain": [
       "Text(0,0.5,'Indeks')"
      ]
     },
     "execution_count": 16,
     "metadata": {},
     "output_type": "execute_result"
    },
    {
     "data": {
      "image/png": "[encoded data removed]",
      "text/plain": [
       "<Figure size 432x288 with 1 Axes>"
      ]
     },
     "metadata": {
      "needs_background": "light"
     },
     "output_type": "display_data"
    }
   ],
   "source": [
    "ax=df.groupby(\"Aspek\").mean().Indeks.sort_values(ascending=False)\n",
    "ax = ax.plot(kind='bar', title =\"Nilai Indeks berdasarkan Aspek\", legend=True, fontsize=12)\n",
    "ax.set_xlabel(\"Aspek\", fontsize=12)\n",
    "ax.set_ylabel(\"Indeks\", fontsize=12)"
   ]
  },
  {
   "cell_type": "markdown",
   "metadata": {},
   "source": [
    "## Kesimpulan\n",
    "Rata rata indeks kebahagiaan Kota Bandung pada 2018 ialah 74.386. Nilai terendahnya ialah 70.5 pada aspek Pendapatan Rumah Tangga. Sementara nilai tertingginya ialah 77.95 pada aspek Keharmonisan Keluarga.\n",
    "\n",
    "Indeks kebahagiaan ini mengalami kenaikan sebesar 0.911 point dibanding tahun lalu. Aspek yang mengalami penurunan ialah Keharmonisan Keluarga (0.87) dan Hubungan Sosial (0.87). Sementara itu, aspek yang mengalami kenaikan ialah Pendidikan (3.15), Kondisi Rumah dan Aset (2.40), Pendapatan Rumah Tangga (2.19), Pekerjaan (1.84), Keadaan Lingkungan (0.53), Kesehatan (0.51), Kondisi Keamanan (0.13) dan Ketersediaan Waktu Luang (0.10).\n",
    "\n",
    "Ini menunjukkan kepada kita bahwa kebahagiaan warga Kota Bandung meningkat. Hampir semua aspek kabahagiaan meningkat. Semoga ini bisa lebih menyemangati kita untuk lebih bahagia. Sekian dari saya. Semoga bermanfaat."
   ]
  },
  {
   "cell_type": "code",
   "execution_count": null,
   "metadata": {},
   "outputs": [],
   "source": []
  }
 ],
 "metadata": {
  "kernelspec": {
   "display_name": "Python 3",
   "language": "python",
   "name": "python3"
  },
  "language_info": {
   "codemirror_mode": {
    "name": "ipython",
    "version": 3
   },
   "file_extension": ".py",
   "mimetype": "text/x-python",
   "name": "python",
   "nbconvert_exporter": "python",
   "pygments_lexer": "ipython3",
   "version": "3.7.0"
  }
 },
 "nbformat": 4,
 "nbformat_minor": 2
}
